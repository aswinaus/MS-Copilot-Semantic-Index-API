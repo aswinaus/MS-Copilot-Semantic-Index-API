{
  "nbformat": 4,
  "nbformat_minor": 0,
  "metadata": {
    "colab": {
      "provenance": [],
      "machine_shape": "hm",
      "mount_file_id": "https://github.com/aswinaus/MS-Copilot-Semantic-Index-API/blob/main/Copilot_Retrieval_Reranking.ipynb",
      "authorship_tag": "ABX9TyNcCLI6uDxD2wKxML9ueh68",
      "include_colab_link": true
    },
    "kernelspec": {
      "name": "python3",
      "display_name": "Python 3"
    },
    "language_info": {
      "name": "python"
    }
  },
  "cells": [
    {
      "cell_type": "markdown",
      "metadata": {
        "id": "view-in-github",
        "colab_type": "text"
      },
      "source": [
        "<a href=\"https://colab.research.google.com/github/aswinaus/MS-Copilot-Semantic-Index-API/blob/main/Copilot_Retrieval_Reranking.ipynb\" target=\"_parent\"><img src=\"https://colab.research.google.com/assets/colab-badge.svg\" alt=\"Open In Colab\"/></a>"
      ]
    },
    {
      "cell_type": "markdown",
      "source": [
        "**Summary** : Code in this notebook retrieves relevant documents from SharePoint using the Microsoft Graph Copilot Retrieval API and ranks them by relevance using reranking logic based on the semantic index score and then leverages OpenAI API to summarize the key information from those documents."
      ],
      "metadata": {
        "id": "vNPLneueiVjb"
      }
    },
    {
      "cell_type": "code",
      "metadata": {
        "id": "0b710898"
      },
      "source": [
        "import requests\n",
        "import json\n",
        "# Replace with your actual access token\n",
        "from google.colab import userdata\n",
        "GRAPH_TOKEN = userdata.get('GRAPH_TOKEN')\n",
        "access_token = GRAPH_TOKEN\n",
        "\n",
        "url = \"https://graph.microsoft.com/beta/copilot/retrieval\"\n",
        "\n",
        "headers = {\n",
        "  \"Authorization\": f\"Bearer {access_token}\",\n",
        "  \"Content-Type\": \"application/json\"\n",
        "}\n",
        "\n",
        "request_body = {\n",
        "  \"queryString\": \"Please get me information about how many EYI MyDocs workspaces contains document about Netherlands workspace\",\n",
        "  \"dataSource\": \"sharePoint\",\n",
        "  \"resourceMetadata\": [\n",
        "    \"title\",\n",
        "    \"author\"\n",
        "  ],\n",
        "  \"maximumNumberOfResults\": \"10\"\n",
        "}\n",
        "\n",
        "response = requests.post(url, headers=headers, data=json.dumps(request_body))\n",
        "\n",
        "if response.status_code == 200:\n",
        "  data = response.json()\n",
        "  print(\"API Call Successful:\")\n",
        "  print(json.dumps(data, indent=2))\n",
        "else:\n",
        "  print(f\"API Call Failed with status code: {response.status_code}\")\n",
        "  #print(response.text)"
      ],
      "execution_count": null,
      "outputs": []
    },
    {
      "cell_type": "code",
      "metadata": {
        "id": "6c006d5b"
      },
      "source": [
        "if response.status_code == 200:\n",
        "  data = response.json()\n",
        "  print(\"API Call Successful:\")\n",
        "\n",
        "  # Rerank the results based on relevance score\n",
        "  if \"retrievalHits\" in data:\n",
        "    reranked_hits = sorted(data[\"retrievalHits\"], key=lambda x: x.get(\"relevanceScore\", 0), reverse=True)\n",
        "    data[\"retrievalHits\"] = reranked_hits\n",
        "    print(\"Results reranked by relevance score.\")\n",
        "\n",
        "  print(json.dumps(data, indent=2))\n",
        "else:\n",
        "  print(f\"API Call Failed with status code: {response.status_code}\")\n",
        "  #print(response.text)"
      ],
      "execution_count": null,
      "outputs": []
    },
    {
      "cell_type": "code",
      "metadata": {
        "id": "0b86d7e2"
      },
      "source": [
        "import os\n",
        "from openai import OpenAI\n",
        "\n",
        "# Get the OpenAI API key from Colab secrets\n",
        "try:\n",
        "    OPENAI_API_KEY = userdata.get('OPENAI_API_KEY')\n",
        "    os.environ[\"OPENAI_API_KEY\"] = OPENAI_API_KEY\n",
        "except userdata.SecretNotFoundError:\n",
        "    print(\"OpenAI API key not found in Colab secrets. Please add it.\")\n",
        "    OPENAI_API_KEY = None\n",
        "\n",
        "if OPENAI_API_KEY:\n",
        "    client = OpenAI()\n",
        "\n",
        "    # Prepare the data to be sent to the OpenAI model\n",
        "    # You can adjust the prompt and data format based on your needs\n",
        "    prompt = \"Now I want the results to be classified based on unique metadata identified in the results\\n\\n\"\n",
        "    for hit in data.get(\"retrievalHits\", []):\n",
        "        prompt += f\"URL: {hit.get('webUrl', 'N/A')}\\n\"\n",
        "        for extract in hit.get('extracts', []):\n",
        "            prompt += f\"Text: {extract.get('text', 'N/A')}\\n\\n\"\n",
        "\n",
        "    try:\n",
        "        response = client.chat.completions.create(\n",
        "            model=\"gpt-4o-mini\",  # You can change the model as needed\n",
        "            messages=[\n",
        "                {\"role\": \"system\", \"content\": \"You are a helpful EYI MyDocs assistant that summarizes information.\"},\n",
        "                {\"role\": \"user\", \"content\": prompt}\n",
        "            ],\n",
        "            max_tokens=500  # Adjust max_tokens as needed\n",
        "        )\n",
        "        print(\"\\nResponse from LLM:\")\n",
        "        print(response.choices[0].message.content)\n",
        "\n",
        "    except Exception as e:\n",
        "        print(f\"An error occurred while calling the OpenAI API: {e}\")\n",
        "else:\n",
        "    print(\"Skipping OpenAI API call because the API key was not found.\")"
      ],
      "execution_count": null,
      "outputs": []
    }
  ]
}